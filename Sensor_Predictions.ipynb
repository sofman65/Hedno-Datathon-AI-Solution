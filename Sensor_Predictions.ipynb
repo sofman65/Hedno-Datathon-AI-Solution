{
  "cells": [
    {
      "cell_type": "code",
      "source": [
        "%pip install catboost\n",
        "%pip install lightgbm\n",
        "%pip install xgboost\n",
        "%pip install imblearn"
      ],
      "outputs": [
        {
          "output_type": "stream",
          "name": "stdout",
          "text": "Collecting catboost\n  Downloading catboost-1.1.1-cp38-none-manylinux1_x86_64.whl (76.6 MB)\n\u001b[2K     \u001b[90m━━━━━━━━━━━━━━━━━━━━━━━━━━━━━━━━━━━━━━━━\u001b[0m \u001b[32m76.6/76.6 MB\u001b[0m \u001b[31m13.7 MB/s\u001b[0m eta \u001b[36m0:00:00\u001b[0m00:01\u001b[0m00:01\u001b[0m\n\u001b[?25hRequirement already satisfied: numpy>=1.16.0 in /anaconda/envs/azureml_py38_PT_TF/lib/python3.8/site-packages (from catboost) (1.23.5)\nRequirement already satisfied: pandas>=0.24.0 in /anaconda/envs/azureml_py38_PT_TF/lib/python3.8/site-packages (from catboost) (2.0.0)\nCollecting graphviz\n  Downloading graphviz-0.20.1-py3-none-any.whl (47 kB)\n\u001b[2K     \u001b[90m━━━━━━━━━━━━━━━━━━━━━━━━━━━━━━━━━━━━━━━━\u001b[0m \u001b[32m47.0/47.0 kB\u001b[0m \u001b[31m7.1 MB/s\u001b[0m eta \u001b[36m0:00:00\u001b[0m\n\u001b[?25hRequirement already satisfied: matplotlib in /anaconda/envs/azureml_py38_PT_TF/lib/python3.8/site-packages (from catboost) (3.7.1)\nRequirement already satisfied: six in /anaconda/envs/azureml_py38_PT_TF/lib/python3.8/site-packages (from catboost) (1.16.0)\nRequirement already satisfied: plotly in /anaconda/envs/azureml_py38_PT_TF/lib/python3.8/site-packages (from catboost) (5.14.1)\nRequirement already satisfied: scipy in /anaconda/envs/azureml_py38_PT_TF/lib/python3.8/site-packages (from catboost) (1.10.1)\nRequirement already satisfied: tzdata>=2022.1 in /anaconda/envs/azureml_py38_PT_TF/lib/python3.8/site-packages (from pandas>=0.24.0->catboost) (2023.3)\nRequirement already satisfied: pytz>=2020.1 in /anaconda/envs/azureml_py38_PT_TF/lib/python3.8/site-packages (from pandas>=0.24.0->catboost) (2022.7.1)\nRequirement already satisfied: python-dateutil>=2.8.2 in /anaconda/envs/azureml_py38_PT_TF/lib/python3.8/site-packages (from pandas>=0.24.0->catboost) (2.8.2)\nRequirement already satisfied: importlib-resources>=3.2.0 in /anaconda/envs/azureml_py38_PT_TF/lib/python3.8/site-packages (from matplotlib->catboost) (5.12.0)\nRequirement already satisfied: fonttools>=4.22.0 in /anaconda/envs/azureml_py38_PT_TF/lib/python3.8/site-packages (from matplotlib->catboost) (4.39.3)\nRequirement already satisfied: contourpy>=1.0.1 in /anaconda/envs/azureml_py38_PT_TF/lib/python3.8/site-packages (from matplotlib->catboost) (1.0.7)\nRequirement already satisfied: kiwisolver>=1.0.1 in /anaconda/envs/azureml_py38_PT_TF/lib/python3.8/site-packages (from matplotlib->catboost) (1.4.4)\nRequirement already satisfied: pillow>=6.2.0 in /anaconda/envs/azureml_py38_PT_TF/lib/python3.8/site-packages (from matplotlib->catboost) (9.5.0)\nRequirement already satisfied: pyparsing>=2.3.1 in /anaconda/envs/azureml_py38_PT_TF/lib/python3.8/site-packages (from matplotlib->catboost) (3.0.9)\nRequirement already satisfied: packaging>=20.0 in /anaconda/envs/azureml_py38_PT_TF/lib/python3.8/site-packages (from matplotlib->catboost) (22.0)\nRequirement already satisfied: cycler>=0.10 in /anaconda/envs/azureml_py38_PT_TF/lib/python3.8/site-packages (from matplotlib->catboost) (0.11.0)\nRequirement already satisfied: tenacity>=6.2.0 in /anaconda/envs/azureml_py38_PT_TF/lib/python3.8/site-packages (from plotly->catboost) (8.2.2)\nRequirement already satisfied: zipp>=3.1.0 in /anaconda/envs/azureml_py38_PT_TF/lib/python3.8/site-packages (from importlib-resources>=3.2.0->matplotlib->catboost) (3.15.0)\nInstalling collected packages: graphviz, catboost\nSuccessfully installed catboost-1.1.1 graphviz-0.20.1\nNote: you may need to restart the kernel to use updated packages.\nRequirement already satisfied: lightgbm in /anaconda/envs/azureml_py38_PT_TF/lib/python3.8/site-packages (3.3.5)\nRequirement already satisfied: scikit-learn!=0.22.0 in /anaconda/envs/azureml_py38_PT_TF/lib/python3.8/site-packages (from lightgbm) (1.2.2)\nRequirement already satisfied: wheel in /anaconda/envs/azureml_py38_PT_TF/lib/python3.8/site-packages (from lightgbm) (0.37.1)\nRequirement already satisfied: numpy in /anaconda/envs/azureml_py38_PT_TF/lib/python3.8/site-packages (from lightgbm) (1.23.5)\nRequirement already satisfied: scipy in /anaconda/envs/azureml_py38_PT_TF/lib/python3.8/site-packages (from lightgbm) (1.10.1)\nRequirement already satisfied: threadpoolctl>=2.0.0 in /anaconda/envs/azureml_py38_PT_TF/lib/python3.8/site-packages (from scikit-learn!=0.22.0->lightgbm) (3.1.0)\nRequirement already satisfied: joblib>=1.1.1 in /anaconda/envs/azureml_py38_PT_TF/lib/python3.8/site-packages (from scikit-learn!=0.22.0->lightgbm) (1.2.0)\nNote: you may need to restart the kernel to use updated packages.\nCollecting xgboost\n  Downloading xgboost-1.7.5-py3-none-manylinux2014_x86_64.whl (200.3 MB)\n\u001b[2K     \u001b[90m━━━━━━━━━━━━━━━━━━━━━━━━━━━━━━━━━━━━━━━\u001b[0m \u001b[32m200.3/200.3 MB\u001b[0m \u001b[31m4.1 MB/s\u001b[0m eta \u001b[36m0:00:00\u001b[0m00:01\u001b[0m00:01\u001b[0m\n\u001b[?25hRequirement already satisfied: numpy in /anaconda/envs/azureml_py38_PT_TF/lib/python3.8/site-packages (from xgboost) (1.23.5)\nRequirement already satisfied: scipy in /anaconda/envs/azureml_py38_PT_TF/lib/python3.8/site-packages (from xgboost) (1.10.1)\nInstalling collected packages: xgboost\nSuccessfully installed xgboost-1.7.5\nNote: you may need to restart the kernel to use updated packages.\nCollecting imblearn\n  Downloading imblearn-0.0-py2.py3-none-any.whl (1.9 kB)\nCollecting imbalanced-learn\n  Downloading imbalanced_learn-0.10.1-py3-none-any.whl (226 kB)\n\u001b[2K     \u001b[90m━━━━━━━━━━━━━━━━━━━━━━━━━━━━━━━━━━━━━━\u001b[0m \u001b[32m226.0/226.0 kB\u001b[0m \u001b[31m14.7 MB/s\u001b[0m eta \u001b[36m0:00:00\u001b[0m\n\u001b[?25hRequirement already satisfied: joblib>=1.1.1 in /anaconda/envs/azureml_py38_PT_TF/lib/python3.8/site-packages (from imbalanced-learn->imblearn) (1.2.0)\nRequirement already satisfied: numpy>=1.17.3 in /anaconda/envs/azureml_py38_PT_TF/lib/python3.8/site-packages (from imbalanced-learn->imblearn) (1.23.5)\nRequirement already satisfied: threadpoolctl>=2.0.0 in /anaconda/envs/azureml_py38_PT_TF/lib/python3.8/site-packages (from imbalanced-learn->imblearn) (3.1.0)\nRequirement already satisfied: scikit-learn>=1.0.2 in /anaconda/envs/azureml_py38_PT_TF/lib/python3.8/site-packages (from imbalanced-learn->imblearn) (1.2.2)\nRequirement already satisfied: scipy>=1.3.2 in /anaconda/envs/azureml_py38_PT_TF/lib/python3.8/site-packages (from imbalanced-learn->imblearn) (1.10.1)\nInstalling collected packages: imbalanced-learn, imblearn\nSuccessfully installed imbalanced-learn-0.10.1 imblearn-0.0\nNote: you may need to restart the kernel to use updated packages.\n"
        }
      ],
      "execution_count": 9,
      "metadata": {
        "id": "Gh99owqHucEd",
        "colab": {
          "base_uri": "https://localhost:8080/"
        },
        "executionInfo": {
          "status": "ok",
          "timestamp": 1681774427823,
          "user_tz": -180,
          "elapsed": 11696,
          "user": {
            "displayName": "Data Entepreneurs",
            "userId": "03266324082713506510"
          }
        },
        "outputId": "f872f1b3-ec77-4e9f-d2e2-da7db6b23f66"
      }
    },
    {
      "cell_type": "markdown",
      "source": [
        "# Data encoding and split"
      ],
      "metadata": {
        "id": "A4EEeRcWu-8X"
      }
    },
    {
      "cell_type": "code",
      "source": [
        "import pandas as pd\r\n",
        "import pickle\r\n",
        "\r\n",
        "df = pd.read_pickle(\"imputated_clustered_data.pkl\")\r\n",
        "df.head(10)"
      ],
      "outputs": [
        {
          "output_type": "execute_result",
          "execution_count": 1,
          "data": {
            "text/plain": "                                            ACCT_NBR  SUCCESSOR   \n0  000A31FE38C6F648845941B642E287FE0200000000004A...          1  \\\n1  000A31FE38C6F648845941B642E287FE0200000000004A...          2   \n2  000A31FE38C6F648845941B642E287FE0200000000004A...          2   \n3  000A31FE38C6F648845941B642E287FE02000000000050...          1   \n4  000A31FE38C6F648845941B642E287FE02000000000050...          1   \n5  000A31FE38C6F648845941B642E287FE0200000000005D...          1   \n6  000A31FE38C6F648845941B642E287FE0200000000007D...          1   \n7  000A31FE38C6F648845941B642E287FE0200000000007D...          2   \n8  000A31FE38C6F648845941B642E287FE0200000000008D...          5   \n9  000A31FE38C6F648845941B642E287FE0200000000008D...          5   \n\n                                        MS_METER_NBR BS_RATE   \n0  000A31FE38C6F648845941B642E287FE020000007FDE53...      21  \\\n1  000A31FE38C6F648845941B642E287FE0200000040D2A7...      21   \n2  000A31FE38C6F648845941B642E287FE020000007FDE53...      21   \n3  000A31FE38C6F648845941B642E287FE0200000099C3B6...      10   \n4  000A31FE38C6F648845941B642E287FE0200000099C3B6...      12   \n5  000A31FE38C6F648845941B642E287FE0200000044E98C...      21   \n6  000A31FE38C6F648845941B642E287FE020000003A5267...      10   \n7  000A31FE38C6F648845941B642E287FE020000003A5267...      10   \n8  000A31FE38C6F648845941B642E287FE0200000096ED89...      21   \n9  000A31FE38C6F648845941B642E287FE0200000096ED89...      21   \n\n                                         time_series  label  XRHSH VOLTAGE   \n0  [0, 0, 0, 0, 0, 0.23803191489361705, 0.2327127...      0    2.0     LOW  \\\n1  [0, 0, 0, 0, 0, 0.23803191489361705, 0.2327127...      0    2.0     LOW   \n2  [0, 0, 0, 0, 0, 0.23803191489361705, 0.2327127...      0    2.0     LOW   \n3  [0, 0, 0, 0, 0, 0, 0, 0, 0, 0, 0, 0, 0, 0, 0, ...      0    1.0     LOW   \n4  [0, 0, 0, 0, 0, 0, 0, 0, 0, 0, 0, 0, 0, 0, 0, ...      0    1.0     LOW   \n5  [0, 0, 0, 0, 0, 0, 0, 0, 0, 0, 0, 0, 0, 0, 0, ...      0    8.0     LOW   \n6  [0, 0, 0, 0, 0, 0, 0, 0, 0, 0, 0, 0, 0, 0, 0, ...      0    1.0     LOW   \n7  [0, 0, 0, 0, 0, 0, 0, 0, 0, 0, 0, 0, 0, 0, 0, ...      0    1.0     LOW   \n8  [0, 0, 0, 0, 0, 0, 0, 0, 0, 0, 0, 0, 0, 0, 0, ...      0    2.0     LOW   \n9  [0, 0, 0, 0, 0, 0, 0, 0, 0, 0, 0, 0, 0, 0, 0, ...      0    2.0     LOW   \n\n   PARNO  CONTRACT_CAPACITY  ACCT_CONTROL        ACCT_WGS84_X   \n0    0.0               12.0           0.0  53,422551543686701  \\\n1    0.0               12.0           0.0  53,422551543686701   \n2    0.0               12.0           0.0  53,422551543686701   \n3    0.0               12.0           0.0  53,424082335108444   \n4    0.0               12.0           0.0  53,424082335108444   \n5    0.0               12.0           0.0   53,47015026955372   \n6    0.0               12.0           0.0  53,440751323514696   \n7    0.0               12.0           0.0  53,440751323514696   \n8    2.0               25.0           0.0  53,407108521588633   \n9    2.0               25.0           0.0  53,407108521588633   \n\n         ACCT_WGS84_Y SUPPLIER SUPPLIER_TO REQUEST_TYPE COMPL_REQUEST_STATUS   \n0  19,592757873078753        Δ           Δ                                    \\\n1  19,592757873078753        Δ                                                 \n2  19,592757873078753        Δ                                                 \n3  19,570173536681853        Δ                                                 \n4  19,570173536681853        Δ                                                 \n5  19,592456022809351        Δ                                                 \n6  19,598127268868772        Δ           Ω   reprChange                compl   \n7  19,598127268868772        Ω                                                 \n8  19,569743639932696        Δ                                         compl   \n9  19,569743639932696        Δ                                                 \n\n   cluster_labels  \n0              -1  \n1              -1  \n2              -1  \n3              65  \n4              65  \n5             317  \n6             367  \n7             367  \n8             110  \n9             110  ",
            "text/html": "<div>\n<style scoped>\n    .dataframe tbody tr th:only-of-type {\n        vertical-align: middle;\n    }\n\n    .dataframe tbody tr th {\n        vertical-align: top;\n    }\n\n    .dataframe thead th {\n        text-align: right;\n    }\n</style>\n<table border=\"1\" class=\"dataframe\">\n  <thead>\n    <tr style=\"text-align: right;\">\n      <th></th>\n      <th>ACCT_NBR</th>\n      <th>SUCCESSOR</th>\n      <th>MS_METER_NBR</th>\n      <th>BS_RATE</th>\n      <th>time_series</th>\n      <th>label</th>\n      <th>XRHSH</th>\n      <th>VOLTAGE</th>\n      <th>PARNO</th>\n      <th>CONTRACT_CAPACITY</th>\n      <th>ACCT_CONTROL</th>\n      <th>ACCT_WGS84_X</th>\n      <th>ACCT_WGS84_Y</th>\n      <th>SUPPLIER</th>\n      <th>SUPPLIER_TO</th>\n      <th>REQUEST_TYPE</th>\n      <th>COMPL_REQUEST_STATUS</th>\n      <th>cluster_labels</th>\n    </tr>\n  </thead>\n  <tbody>\n    <tr>\n      <th>0</th>\n      <td>000A31FE38C6F648845941B642E287FE0200000000004A...</td>\n      <td>1</td>\n      <td>000A31FE38C6F648845941B642E287FE020000007FDE53...</td>\n      <td>21</td>\n      <td>[0, 0, 0, 0, 0, 0.23803191489361705, 0.2327127...</td>\n      <td>0</td>\n      <td>2.0</td>\n      <td>LOW</td>\n      <td>0.0</td>\n      <td>12.0</td>\n      <td>0.0</td>\n      <td>53,422551543686701</td>\n      <td>19,592757873078753</td>\n      <td>Δ</td>\n      <td>Δ</td>\n      <td></td>\n      <td></td>\n      <td>-1</td>\n    </tr>\n    <tr>\n      <th>1</th>\n      <td>000A31FE38C6F648845941B642E287FE0200000000004A...</td>\n      <td>2</td>\n      <td>000A31FE38C6F648845941B642E287FE0200000040D2A7...</td>\n      <td>21</td>\n      <td>[0, 0, 0, 0, 0, 0.23803191489361705, 0.2327127...</td>\n      <td>0</td>\n      <td>2.0</td>\n      <td>LOW</td>\n      <td>0.0</td>\n      <td>12.0</td>\n      <td>0.0</td>\n      <td>53,422551543686701</td>\n      <td>19,592757873078753</td>\n      <td>Δ</td>\n      <td></td>\n      <td></td>\n      <td></td>\n      <td>-1</td>\n    </tr>\n    <tr>\n      <th>2</th>\n      <td>000A31FE38C6F648845941B642E287FE0200000000004A...</td>\n      <td>2</td>\n      <td>000A31FE38C6F648845941B642E287FE020000007FDE53...</td>\n      <td>21</td>\n      <td>[0, 0, 0, 0, 0, 0.23803191489361705, 0.2327127...</td>\n      <td>0</td>\n      <td>2.0</td>\n      <td>LOW</td>\n      <td>0.0</td>\n      <td>12.0</td>\n      <td>0.0</td>\n      <td>53,422551543686701</td>\n      <td>19,592757873078753</td>\n      <td>Δ</td>\n      <td></td>\n      <td></td>\n      <td></td>\n      <td>-1</td>\n    </tr>\n    <tr>\n      <th>3</th>\n      <td>000A31FE38C6F648845941B642E287FE02000000000050...</td>\n      <td>1</td>\n      <td>000A31FE38C6F648845941B642E287FE0200000099C3B6...</td>\n      <td>10</td>\n      <td>[0, 0, 0, 0, 0, 0, 0, 0, 0, 0, 0, 0, 0, 0, 0, ...</td>\n      <td>0</td>\n      <td>1.0</td>\n      <td>LOW</td>\n      <td>0.0</td>\n      <td>12.0</td>\n      <td>0.0</td>\n      <td>53,424082335108444</td>\n      <td>19,570173536681853</td>\n      <td>Δ</td>\n      <td></td>\n      <td></td>\n      <td></td>\n      <td>65</td>\n    </tr>\n    <tr>\n      <th>4</th>\n      <td>000A31FE38C6F648845941B642E287FE02000000000050...</td>\n      <td>1</td>\n      <td>000A31FE38C6F648845941B642E287FE0200000099C3B6...</td>\n      <td>12</td>\n      <td>[0, 0, 0, 0, 0, 0, 0, 0, 0, 0, 0, 0, 0, 0, 0, ...</td>\n      <td>0</td>\n      <td>1.0</td>\n      <td>LOW</td>\n      <td>0.0</td>\n      <td>12.0</td>\n      <td>0.0</td>\n      <td>53,424082335108444</td>\n      <td>19,570173536681853</td>\n      <td>Δ</td>\n      <td></td>\n      <td></td>\n      <td></td>\n      <td>65</td>\n    </tr>\n    <tr>\n      <th>5</th>\n      <td>000A31FE38C6F648845941B642E287FE0200000000005D...</td>\n      <td>1</td>\n      <td>000A31FE38C6F648845941B642E287FE0200000044E98C...</td>\n      <td>21</td>\n      <td>[0, 0, 0, 0, 0, 0, 0, 0, 0, 0, 0, 0, 0, 0, 0, ...</td>\n      <td>0</td>\n      <td>8.0</td>\n      <td>LOW</td>\n      <td>0.0</td>\n      <td>12.0</td>\n      <td>0.0</td>\n      <td>53,47015026955372</td>\n      <td>19,592456022809351</td>\n      <td>Δ</td>\n      <td></td>\n      <td></td>\n      <td></td>\n      <td>317</td>\n    </tr>\n    <tr>\n      <th>6</th>\n      <td>000A31FE38C6F648845941B642E287FE0200000000007D...</td>\n      <td>1</td>\n      <td>000A31FE38C6F648845941B642E287FE020000003A5267...</td>\n      <td>10</td>\n      <td>[0, 0, 0, 0, 0, 0, 0, 0, 0, 0, 0, 0, 0, 0, 0, ...</td>\n      <td>0</td>\n      <td>1.0</td>\n      <td>LOW</td>\n      <td>0.0</td>\n      <td>12.0</td>\n      <td>0.0</td>\n      <td>53,440751323514696</td>\n      <td>19,598127268868772</td>\n      <td>Δ</td>\n      <td>Ω</td>\n      <td>reprChange</td>\n      <td>compl</td>\n      <td>367</td>\n    </tr>\n    <tr>\n      <th>7</th>\n      <td>000A31FE38C6F648845941B642E287FE0200000000007D...</td>\n      <td>2</td>\n      <td>000A31FE38C6F648845941B642E287FE020000003A5267...</td>\n      <td>10</td>\n      <td>[0, 0, 0, 0, 0, 0, 0, 0, 0, 0, 0, 0, 0, 0, 0, ...</td>\n      <td>0</td>\n      <td>1.0</td>\n      <td>LOW</td>\n      <td>0.0</td>\n      <td>12.0</td>\n      <td>0.0</td>\n      <td>53,440751323514696</td>\n      <td>19,598127268868772</td>\n      <td>Ω</td>\n      <td></td>\n      <td></td>\n      <td></td>\n      <td>367</td>\n    </tr>\n    <tr>\n      <th>8</th>\n      <td>000A31FE38C6F648845941B642E287FE0200000000008D...</td>\n      <td>5</td>\n      <td>000A31FE38C6F648845941B642E287FE0200000096ED89...</td>\n      <td>21</td>\n      <td>[0, 0, 0, 0, 0, 0, 0, 0, 0, 0, 0, 0, 0, 0, 0, ...</td>\n      <td>0</td>\n      <td>2.0</td>\n      <td>LOW</td>\n      <td>2.0</td>\n      <td>25.0</td>\n      <td>0.0</td>\n      <td>53,407108521588633</td>\n      <td>19,569743639932696</td>\n      <td>Δ</td>\n      <td></td>\n      <td></td>\n      <td>compl</td>\n      <td>110</td>\n    </tr>\n    <tr>\n      <th>9</th>\n      <td>000A31FE38C6F648845941B642E287FE0200000000008D...</td>\n      <td>5</td>\n      <td>000A31FE38C6F648845941B642E287FE0200000096ED89...</td>\n      <td>21</td>\n      <td>[0, 0, 0, 0, 0, 0, 0, 0, 0, 0, 0, 0, 0, 0, 0, ...</td>\n      <td>0</td>\n      <td>2.0</td>\n      <td>LOW</td>\n      <td>2.0</td>\n      <td>25.0</td>\n      <td>0.0</td>\n      <td>53,407108521588633</td>\n      <td>19,569743639932696</td>\n      <td>Δ</td>\n      <td></td>\n      <td></td>\n      <td></td>\n      <td>110</td>\n    </tr>\n  </tbody>\n</table>\n</div>"
          },
          "metadata": {}
        }
      ],
      "execution_count": 1,
      "metadata": {
        "jupyter": {
          "source_hidden": false,
          "outputs_hidden": false
        },
        "nteract": {
          "transient": {
            "deleting": false
          }
        },
        "gather": {
          "logged": 1681989839157
        }
      }
    },
    {
      "cell_type": "code",
      "source": [
        "# Find the maximum length of time_series\r\n",
        "max_length = df['time_series'].apply(len).max()\r\n",
        "\r\n",
        "# Create new columns and fill them with the values from time_series\r\n",
        "for i in range(max_length):\r\n",
        "    column_name = f'measurement_{i}'\r\n",
        "    df[column_name] = df['time_series'].apply(lambda x: x[i] if i < len(x) else None)\r\n",
        "\r\n",
        "df.drop(['ACCT_NBR', 'SUCCESSOR', 'MS_METER_NBR', 'ACCT_WGS84_X', 'ACCT_WGS84_Y', 'time_series'], axis=1, inplace=True)\r\n",
        "\r\n",
        "df.head(10)"
      ],
      "outputs": [
        {
          "output_type": "execute_result",
          "execution_count": 2,
          "data": {
            "text/plain": "  BS_RATE  label  XRHSH VOLTAGE  PARNO  CONTRACT_CAPACITY  ACCT_CONTROL   \n0      21      0    2.0     LOW    0.0               12.0           0.0  \\\n1      21      0    2.0     LOW    0.0               12.0           0.0   \n2      21      0    2.0     LOW    0.0               12.0           0.0   \n3      10      0    1.0     LOW    0.0               12.0           0.0   \n4      12      0    1.0     LOW    0.0               12.0           0.0   \n5      21      0    8.0     LOW    0.0               12.0           0.0   \n6      10      0    1.0     LOW    0.0               12.0           0.0   \n7      10      0    1.0     LOW    0.0               12.0           0.0   \n8      21      0    2.0     LOW    2.0               25.0           0.0   \n9      21      0    2.0     LOW    2.0               25.0           0.0   \n\n  SUPPLIER SUPPLIER_TO REQUEST_TYPE  ... measurement_50  measurement_51   \n0        Δ           Δ               ...       0.542121        0.526889  \\\n1        Δ                           ...       0.542121        0.526889   \n2        Δ                           ...       0.542121        0.526889   \n3        Δ                           ...       0.292548        0.519688   \n4        Δ                           ...       0.236234        0.512433   \n5        Δ                           ...       0.000000        0.000000   \n6        Δ           Ω   reprChange  ...       0.938664        0.783133   \n7        Ω                           ...       0.302083        0.318452   \n8        Δ                           ...       0.750824        0.641892   \n9        Δ                           ...       0.750824        0.641892   \n\n   measurement_52  measurement_53  measurement_54  measurement_55   \n0        0.563361        0.676491        0.541044        0.545747  \\\n1        0.563361        0.676491        0.944882        0.267717   \n2        0.563361        0.676491        0.541044        0.545747   \n3        0.463716        0.328018        1.000000        0.325415   \n4        0.396092        0.264654        1.000000        0.259325   \n5        0.777458        1.000000        0.736046        0.170688   \n6        0.732202        1.000000        0.994524        0.605696   \n7        0.208707        0.574302        0.777346        0.515901   \n8        0.637937        0.632993        0.832070        0.581905   \n9        0.637937        0.632993        0.832070        0.581905   \n\n   measurement_56  measurement_57  measurement_58  measurement_59  \n0        0.088889        0.244444        0.570370        1.000000  \n1        0.275591        0.322835        1.000000        0.338583  \n2        0.495319        0.509675        0.776119        1.000000  \n3        0.472177        0.403514        0.993492        0.393752  \n4        0.495560        0.353464        0.957371        0.329485  \n5        0.280879        0.151963        0.150882        0.190853  \n6        0.934283        0.648412        0.483023        0.123220  \n7        0.996466        0.977032        1.000000        0.902827  \n8        0.483191        1.000000        0.403098        0.443968  \n9        0.483191        1.000000        0.403098        0.443968  \n\n[10 rows x 72 columns]",
            "text/html": "<div>\n<style scoped>\n    .dataframe tbody tr th:only-of-type {\n        vertical-align: middle;\n    }\n\n    .dataframe tbody tr th {\n        vertical-align: top;\n    }\n\n    .dataframe thead th {\n        text-align: right;\n    }\n</style>\n<table border=\"1\" class=\"dataframe\">\n  <thead>\n    <tr style=\"text-align: right;\">\n      <th></th>\n      <th>BS_RATE</th>\n      <th>label</th>\n      <th>XRHSH</th>\n      <th>VOLTAGE</th>\n      <th>PARNO</th>\n      <th>CONTRACT_CAPACITY</th>\n      <th>ACCT_CONTROL</th>\n      <th>SUPPLIER</th>\n      <th>SUPPLIER_TO</th>\n      <th>REQUEST_TYPE</th>\n      <th>...</th>\n      <th>measurement_50</th>\n      <th>measurement_51</th>\n      <th>measurement_52</th>\n      <th>measurement_53</th>\n      <th>measurement_54</th>\n      <th>measurement_55</th>\n      <th>measurement_56</th>\n      <th>measurement_57</th>\n      <th>measurement_58</th>\n      <th>measurement_59</th>\n    </tr>\n  </thead>\n  <tbody>\n    <tr>\n      <th>0</th>\n      <td>21</td>\n      <td>0</td>\n      <td>2.0</td>\n      <td>LOW</td>\n      <td>0.0</td>\n      <td>12.0</td>\n      <td>0.0</td>\n      <td>Δ</td>\n      <td>Δ</td>\n      <td></td>\n      <td>...</td>\n      <td>0.542121</td>\n      <td>0.526889</td>\n      <td>0.563361</td>\n      <td>0.676491</td>\n      <td>0.541044</td>\n      <td>0.545747</td>\n      <td>0.088889</td>\n      <td>0.244444</td>\n      <td>0.570370</td>\n      <td>1.000000</td>\n    </tr>\n    <tr>\n      <th>1</th>\n      <td>21</td>\n      <td>0</td>\n      <td>2.0</td>\n      <td>LOW</td>\n      <td>0.0</td>\n      <td>12.0</td>\n      <td>0.0</td>\n      <td>Δ</td>\n      <td></td>\n      <td></td>\n      <td>...</td>\n      <td>0.542121</td>\n      <td>0.526889</td>\n      <td>0.563361</td>\n      <td>0.676491</td>\n      <td>0.944882</td>\n      <td>0.267717</td>\n      <td>0.275591</td>\n      <td>0.322835</td>\n      <td>1.000000</td>\n      <td>0.338583</td>\n    </tr>\n    <tr>\n      <th>2</th>\n      <td>21</td>\n      <td>0</td>\n      <td>2.0</td>\n      <td>LOW</td>\n      <td>0.0</td>\n      <td>12.0</td>\n      <td>0.0</td>\n      <td>Δ</td>\n      <td></td>\n      <td></td>\n      <td>...</td>\n      <td>0.542121</td>\n      <td>0.526889</td>\n      <td>0.563361</td>\n      <td>0.676491</td>\n      <td>0.541044</td>\n      <td>0.545747</td>\n      <td>0.495319</td>\n      <td>0.509675</td>\n      <td>0.776119</td>\n      <td>1.000000</td>\n    </tr>\n    <tr>\n      <th>3</th>\n      <td>10</td>\n      <td>0</td>\n      <td>1.0</td>\n      <td>LOW</td>\n      <td>0.0</td>\n      <td>12.0</td>\n      <td>0.0</td>\n      <td>Δ</td>\n      <td></td>\n      <td></td>\n      <td>...</td>\n      <td>0.292548</td>\n      <td>0.519688</td>\n      <td>0.463716</td>\n      <td>0.328018</td>\n      <td>1.000000</td>\n      <td>0.325415</td>\n      <td>0.472177</td>\n      <td>0.403514</td>\n      <td>0.993492</td>\n      <td>0.393752</td>\n    </tr>\n    <tr>\n      <th>4</th>\n      <td>12</td>\n      <td>0</td>\n      <td>1.0</td>\n      <td>LOW</td>\n      <td>0.0</td>\n      <td>12.0</td>\n      <td>0.0</td>\n      <td>Δ</td>\n      <td></td>\n      <td></td>\n      <td>...</td>\n      <td>0.236234</td>\n      <td>0.512433</td>\n      <td>0.396092</td>\n      <td>0.264654</td>\n      <td>1.000000</td>\n      <td>0.259325</td>\n      <td>0.495560</td>\n      <td>0.353464</td>\n      <td>0.957371</td>\n      <td>0.329485</td>\n    </tr>\n    <tr>\n      <th>5</th>\n      <td>21</td>\n      <td>0</td>\n      <td>8.0</td>\n      <td>LOW</td>\n      <td>0.0</td>\n      <td>12.0</td>\n      <td>0.0</td>\n      <td>Δ</td>\n      <td></td>\n      <td></td>\n      <td>...</td>\n      <td>0.000000</td>\n      <td>0.000000</td>\n      <td>0.777458</td>\n      <td>1.000000</td>\n      <td>0.736046</td>\n      <td>0.170688</td>\n      <td>0.280879</td>\n      <td>0.151963</td>\n      <td>0.150882</td>\n      <td>0.190853</td>\n    </tr>\n    <tr>\n      <th>6</th>\n      <td>10</td>\n      <td>0</td>\n      <td>1.0</td>\n      <td>LOW</td>\n      <td>0.0</td>\n      <td>12.0</td>\n      <td>0.0</td>\n      <td>Δ</td>\n      <td>Ω</td>\n      <td>reprChange</td>\n      <td>...</td>\n      <td>0.938664</td>\n      <td>0.783133</td>\n      <td>0.732202</td>\n      <td>1.000000</td>\n      <td>0.994524</td>\n      <td>0.605696</td>\n      <td>0.934283</td>\n      <td>0.648412</td>\n      <td>0.483023</td>\n      <td>0.123220</td>\n    </tr>\n    <tr>\n      <th>7</th>\n      <td>10</td>\n      <td>0</td>\n      <td>1.0</td>\n      <td>LOW</td>\n      <td>0.0</td>\n      <td>12.0</td>\n      <td>0.0</td>\n      <td>Ω</td>\n      <td></td>\n      <td></td>\n      <td>...</td>\n      <td>0.302083</td>\n      <td>0.318452</td>\n      <td>0.208707</td>\n      <td>0.574302</td>\n      <td>0.777346</td>\n      <td>0.515901</td>\n      <td>0.996466</td>\n      <td>0.977032</td>\n      <td>1.000000</td>\n      <td>0.902827</td>\n    </tr>\n    <tr>\n      <th>8</th>\n      <td>21</td>\n      <td>0</td>\n      <td>2.0</td>\n      <td>LOW</td>\n      <td>2.0</td>\n      <td>25.0</td>\n      <td>0.0</td>\n      <td>Δ</td>\n      <td></td>\n      <td></td>\n      <td>...</td>\n      <td>0.750824</td>\n      <td>0.641892</td>\n      <td>0.637937</td>\n      <td>0.632993</td>\n      <td>0.832070</td>\n      <td>0.581905</td>\n      <td>0.483191</td>\n      <td>1.000000</td>\n      <td>0.403098</td>\n      <td>0.443968</td>\n    </tr>\n    <tr>\n      <th>9</th>\n      <td>21</td>\n      <td>0</td>\n      <td>2.0</td>\n      <td>LOW</td>\n      <td>2.0</td>\n      <td>25.0</td>\n      <td>0.0</td>\n      <td>Δ</td>\n      <td></td>\n      <td></td>\n      <td>...</td>\n      <td>0.750824</td>\n      <td>0.641892</td>\n      <td>0.637937</td>\n      <td>0.632993</td>\n      <td>0.832070</td>\n      <td>0.581905</td>\n      <td>0.483191</td>\n      <td>1.000000</td>\n      <td>0.403098</td>\n      <td>0.443968</td>\n    </tr>\n  </tbody>\n</table>\n<p>10 rows × 72 columns</p>\n</div>"
          },
          "metadata": {}
        }
      ],
      "execution_count": 2,
      "metadata": {
        "jupyter": {
          "source_hidden": false,
          "outputs_hidden": false
        },
        "nteract": {
          "transient": {
            "deleting": false
          }
        },
        "gather": {
          "logged": 1681989893728
        }
      }
    },
    {
      "cell_type": "code",
      "source": [
        "categorical_columns = df.select_dtypes(include=['object', 'category']).columns\n",
        "\n",
        "# Apply pd.get_dummies on the initial dataset\n",
        "one_hot_encoded_data = pd.get_dummies(df, columns=categorical_columns)\n",
        "\n",
        "# Save the column names\n",
        "one_hot_columns = one_hot_encoded_data.columns\n",
        "\n",
        "# Save the one_hot_columns to a pickle file\n",
        "with open(\"Models/one_hot_columns.pkl\", \"wb\") as f:\n",
        "    pickle.dump(one_hot_columns, f)\n",
        "\n",
        "X = one_hot_encoded_data.drop([\"label\"], axis=1)\n",
        "y = one_hot_encoded_data[\"label\"]"
      ],
      "outputs": [],
      "execution_count": 3,
      "metadata": {
        "id": "q0qvRiBJukbh",
        "colab": {
          "base_uri": "https://localhost:8080/",
          "height": 417
        },
        "executionInfo": {
          "status": "error",
          "timestamp": 1681768971189,
          "user_tz": -180,
          "elapsed": 1902,
          "user": {
            "displayName": "Data Entepreneurs",
            "userId": "03266324082713506510"
          }
        },
        "outputId": "f688d600-0bdc-4559-dfd1-a283369b9852",
        "gather": {
          "logged": 1681989921214
        }
      }
    },
    {
      "cell_type": "code",
      "source": [
        "from sklearn.model_selection import train_test_split\r\n",
        "\r\n",
        "X_train, X_test, y_train, y_test = train_test_split(X, y, test_size=0.2, random_state=80, stratify=y)\r\n",
        "X_detectors_train, X_agent_train, y_detectors_train, y_agent_train = train_test_split(X_train, y_train, test_size=0.5, random_state=80, stratify=y_train)"
      ],
      "outputs": [],
      "execution_count": 6,
      "metadata": {
        "jupyter": {
          "source_hidden": false,
          "outputs_hidden": false
        },
        "nteract": {
          "transient": {
            "deleting": false
          }
        },
        "gather": {
          "logged": 1681990537534
        }
      }
    },
    {
      "cell_type": "markdown",
      "source": [
        "# Detectors processing"
      ],
      "metadata": {
        "id": "dx4wYiRzvJF3"
      }
    },
    {
      "cell_type": "code",
      "source": [
        "import pandas as pd\r\n",
        "from Agent.Sensors.Catboost import CatBoostAnomalyDetector\r\n",
        "from Agent.Sensors.LightGBM import LightGBMAnomalyDetector\r\n",
        "from Agent.Sensors.XGBoost import XGBoostAnomalyDetector\r\n",
        "from Agent.Sensors.RandomForest import RandomForestAnomalyDetector\r\n",
        "import numpy as np\r\n",
        "import pickle"
      ],
      "outputs": [],
      "execution_count": 10,
      "metadata": {
        "jupyter": {
          "source_hidden": false,
          "outputs_hidden": false
        },
        "nteract": {
          "transient": {
            "deleting": false
          }
        },
        "gather": {
          "logged": 1681992553075
        }
      }
    },
    {
      "cell_type": "code",
      "source": [
        "#  (Number of outliers / Total number of data points)\n",
        "outlier_fraction = (len(y_detectors_train[y_detectors_train == 1]) / X_detectors_train.shape[0])\n",
        "\n",
        "# Class importance weights\n",
        "weight_minority = 0.7\n",
        "weight_majority = 0.3\n",
        "\n",
        "# Calculate class weights for each sample\n",
        "sample_weights = np.array([weight_minority if y == 1 else weight_majority for y in y_detectors_train])\n",
        "\n",
        "# Instantiate the detectors\n",
        "detectors = {\n",
        "    \"RandomForest\": RandomForestAnomalyDetector(max_depth=25, random_state=0, outlier_fraction=outlier_fraction, class_weight={0: weight_majority, 1: weight_minority}, sample_weights=sample_weights),\n",
        "    \"XGBoost\": XGBoostAnomalyDetector(outlier_fraction=outlier_fraction, class_weight=sample_weights, sample_weights=sample_weights),\n",
        "    \"CatBoost\": CatBoostAnomalyDetector(outlier_fraction=outlier_fraction, class_weight=[weight_majority, weight_minority], sample_weights=sample_weights),\n",
        "    \"LightGBM\": LightGBMAnomalyDetector(outlier_fraction=outlier_fraction, class_weight={0: weight_majority, 1: weight_minority}, sample_weights=sample_weights),\n",
        "}\n",
        "\n",
        "# Train the detectors and store their predict_proba results in a new DataFrame called sensors_df\n",
        "sensors_df = pd.DataFrame()\n",
        "for name, detector in detectors.items():\n",
        "    print(\"Current detector: {}\".format(name))\n",
        "    detector.fit(X_detectors_train, y_detectors_train)\n",
        "    detector.evaluate(X_agent_train, y_agent_train)\n",
        "    sensors_df[name] = detector.proba\n"
      ],
      "outputs": [
        {
          "output_type": "stream",
          "name": "stdout",
          "text": "Current detector: RandomForest\nAccuracy (Random Forest): 0.9922\nPrecision (Random Forest): 0.5561\nRecall (Random Forest): 0.5564\nF1 score (Random Forest): 0.5563\nF2 score (Random Forest): 0.5564\nCurrent detector: XGBoost\nAccuracy (XGBoost): 0.9887\nPrecision (XGBoost): 0.3565\nRecall (XGBoost): 0.3567\nF1 score (XGBoost): 0.3566\nF2 score (XGBoost): 0.3567\nCurrent detector: CatBoost\nAccuracy (CatBoost): 0.9912\nPrecision (CatBoost): 0.5004\nRecall (CatBoost): 0.5007\nF1 score (CatBoost): 0.5006\nF2 score (CatBoost): 0.5006\nCurrent detector: LightGBM\nAccuracy (LGBM): 0.9884\nPrecision (LGBM): 0.3410\nRecall (LGBM): 0.3410\nF1 score (LGBM): 0.3410\nF2 score (LGBM): 0.3410\n"
        }
      ],
      "execution_count": 11,
      "metadata": {
        "id": "uwitw-NKvPSA",
        "colab": {
          "base_uri": "https://localhost:8080/"
        },
        "outputId": "491eb8db-de27-46fd-b2a9-bf203f3f0515",
        "executionInfo": {
          "status": "ok",
          "timestamp": 1681776083187,
          "user_tz": -180,
          "elapsed": 1014052,
          "user": {
            "displayName": "Data Entepreneurs",
            "userId": "03266324082713506510"
          }
        },
        "gather": {
          "logged": 1681992960137
        }
      }
    },
    {
      "cell_type": "code",
      "source": [
        "sensors_df.to_pickle(\"sensors_df.pkl\")\n",
        "models_to_save = detectors.copy()\n",
        "# Save all the models in one pickle file\n",
        "with open(\"Models/detectors.pkl\", \"wb\") as f:\n",
        "    pickle.dump(models_to_save, f)"
      ],
      "outputs": [],
      "execution_count": 12,
      "metadata": {
        "id": "KQuq3JcjNeSn",
        "executionInfo": {
          "status": "ok",
          "timestamp": 1681776095035,
          "user_tz": -180,
          "elapsed": 4025,
          "user": {
            "displayName": "Data Entepreneurs",
            "userId": "03266324082713506510"
          }
        },
        "gather": {
          "logged": 1681993079131
        }
      }
    },
    {
      "cell_type": "code",
      "source": [
        "from sklearn.metrics import accuracy_score, precision_score, recall_score, f1_score, fbeta_score\r\n",
        "import numpy as np\r\n",
        "\r\n",
        "# Class importance weights\r\n",
        "weight_minority = 0.7\r\n",
        "weight_majority = 0.3\r\n",
        "\r\n",
        "# Calculate class weights for each sample\r\n",
        "test_sample_weights = np.array([weight_minority if y == 1 else weight_majority for y in y_test])\r\n",
        "\r\n",
        "for name, detector in detectors.items():\r\n",
        "    detector.sample_weights = test_sample_weights\r\n",
        "    detector.evaluate(X_test, y_test)\r\n",
        "    print(\"\")"
      ],
      "outputs": [
        {
          "output_type": "stream",
          "name": "stdout",
          "text": "Accuracy (Random Forest): 0.9872\nPrecision (Random Forest): 0.7465\nRecall (Random Forest): 0.5580\nF1 score (Random Forest): 0.6386\nF2 score (Random Forest): 0.5876\n\nAccuracy (XGBoost): 0.9813\nPrecision (XGBoost): 0.5580\nRecall (XGBoost): 0.3511\nF1 score (XGBoost): 0.4310\nF2 score (XGBoost): 0.3792\n\nAccuracy (CatBoost): 0.9857\nPrecision (CatBoost): 0.7027\nRecall (CatBoost): 0.5032\nF1 score (CatBoost): 0.5864\nF2 score (CatBoost): 0.5335\n\nAccuracy (LGBM): 0.9810\nPrecision (LGBM): 0.5491\nRecall (LGBM): 0.3429\nF1 score (LGBM): 0.4222\nF2 score (LGBM): 0.3707\n\n"
        }
      ],
      "execution_count": 13,
      "metadata": {
        "jupyter": {
          "source_hidden": false,
          "outputs_hidden": false
        },
        "nteract": {
          "transient": {
            "deleting": false
          }
        },
        "gather": {
          "logged": 1681993119724
        }
      }
    },
    {
      "cell_type": "code",
      "source": [],
      "outputs": [],
      "execution_count": null,
      "metadata": {
        "jupyter": {
          "source_hidden": false,
          "outputs_hidden": false
        },
        "nteract": {
          "transient": {
            "deleting": false
          }
        }
      }
    }
  ],
  "metadata": {
    "colab": {
      "provenance": [],
      "machine_shape": "hm"
    },
    "accelerator": "GPU",
    "gpuClass": "premium",
    "microsoft": {
      "ms_spell_check": {
        "ms_spell_check_language": "en"
      },
      "host": {
        "AzureML": {
          "notebookHasBeenCompleted": true
        }
      }
    },
    "kernel_info": {
      "name": "python38-azureml-pt-tf"
    },
    "language_info": {
      "name": "python",
      "version": "3.8.5",
      "mimetype": "text/x-python",
      "codemirror_mode": {
        "name": "ipython",
        "version": 3
      },
      "pygments_lexer": "ipython3",
      "nbconvert_exporter": "python",
      "file_extension": ".py"
    },
    "kernelspec": {
      "name": "python38-azureml-pt-tf",
      "language": "python",
      "display_name": "Python 3.8 - Pytorch and Tensorflow"
    },
    "nteract": {
      "version": "nteract-front-end@1.0.0"
    }
  },
  "nbformat": 4,
  "nbformat_minor": 0
}