{
  "cells": [
    {
      "cell_type": "code",
      "source": [
        "import pandas as pd"
      ],
      "outputs": [],
      "execution_count": null,
      "metadata": {
        "jupyter": {
          "source_hidden": false,
          "outputs_hidden": false
        },
        "nteract": {
          "transient": {
            "deleting": false
          }
        }
      }
    },
    {
      "cell_type": "code",
      "source": [
        "import numpy as np\r\n",
        "from Agent.dqn_binary_classification_memory_optimized import BinaryClassificationEnv, DoubleDQN\r\n",
        "from sklearn.metrics import accuracy_score, precision_score, recall_score, f1_score, fbeta_score\r\n",
        "from sklearn.model_selection import train_test_split\r\n",
        "\r\n",
        "num_features = X_train.shape[1]\r\n",
        "\r\n",
        "# Initialize the environment and agent\r\n",
        "env = BinaryClassificationEnv(X_train, y_train)\r\n",
        "agent = DoubleDQN(state_space=num_features, action_space=2,\r\n",
        "            learning_rate=0.01, discount_factor=0.3, buffer_size=100000)\r\n",
        "\r\n",
        "# Set the total number of iterations for tqdm\r\n",
        "total_iterations = 100000\r\n",
        "\r\n",
        "# Initialize tqdm with the total number of iterations\r\n",
        "for i in tqdm(range(total_iterations)):\r\n",
        "\r\n",
        "    action = np.random.randint(2)\r\n",
        "    next_state, reward = env.step(action)\r\n",
        "    agent.store_transition(env.data[env.current_state],\r\n",
        "                           action, reward, next_state, False)\r\n",
        "    \r\n",
        "# Train the agent\r\n",
        "agent.train(batch_size=32, num_episodes=2000)\r\n",
        "# Evaluate the agent on new data\r\n",
        "test_cases = len(X_test)\r\n",
        "\r\n",
        "q_values = agent.predict(X_test)\r\n",
        "\r\n",
        "actions = []\r\n",
        "for i in range(test_cases):\r\n",
        "\r\n",
        "    actions.append(np.argmax(q_values[i]))\r\n",
        "\r\n",
        "accuracy = accuracy_score(y_test, actions)\r\n",
        "precision = precision_score(y_test, actions, average='weighted')\r\n",
        "recall = recall_score(y_test, actions, average='weighted')\r\n",
        "f1_score = f1_score(y_test, actions, average='weighted')\r\n",
        "beta = 2\r\n",
        "f2_score = fbeta_score(y_test, actions, beta=beta, average='weighted')\r\n",
        "\r\n",
        "print(\"Accuracy: {:.2f}\".format(accuracy))\r\n",
        "print(\"Precision: {:.2f}\".format(precision))\r\n",
        "print(\"Recall: {:.2f}\".format(recall))\r\n",
        "print(\"F1 score: {:.2f}\".format(f1_score))\r\n",
        "print(\"F2 score: {:.2f}\".format(f2_score))\r\n"
      ],
      "outputs": [],
      "execution_count": null,
      "metadata": {}
    }
  ],
  "metadata": {
    "kernelspec": {
      "name": "python310-sdkv2",
      "language": "python",
      "display_name": "Python 3.10 - SDK v2"
    },
    "language_info": {
      "name": "python",
      "version": "3.10.10",
      "mimetype": "text/x-python",
      "codemirror_mode": {
        "name": "ipython",
        "version": 3
      },
      "pygments_lexer": "ipython3",
      "nbconvert_exporter": "python",
      "file_extension": ".py"
    },
    "microsoft": {
      "ms_spell_check": {
        "ms_spell_check_language": "en"
      }
    },
    "nteract": {
      "version": "nteract-front-end@1.0.0"
    },
    "kernel_info": {
      "name": "python310-sdkv2"
    }
  },
  "nbformat": 4,
  "nbformat_minor": 2
}